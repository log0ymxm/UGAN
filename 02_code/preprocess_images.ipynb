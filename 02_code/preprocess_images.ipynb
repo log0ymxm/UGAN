{
 "cells": [
  {
   "cell_type": "code",
   "execution_count": 161,
   "metadata": {
    "collapsed": true
   },
   "outputs": [],
   "source": [
    "import os\n",
    "\n",
    "# install scikit image: sudo pip install -U scikit-image\n",
    "from skimage.transform import resize\n",
    "from skimage import io\n",
    "from skimage import color\n",
    "from skimage.filters import threshold_mean\n",
    "\n",
    "import numpy as np\n",
    "import matplotlib.pyplot as plt\n",
    "import pandas as pd"
   ]
  },
  {
   "cell_type": "code",
   "execution_count": 162,
   "metadata": {
    "collapsed": true
   },
   "outputs": [],
   "source": [
    "# get file names in folder\n",
    "directory = 'gimages/1/' # directory path of images\n",
    "file_names = []\n",
    "for f in os.listdir(directory):\n",
    "    file_names.append(f)"
   ]
  },
  {
   "cell_type": "code",
   "execution_count": 163,
   "metadata": {},
   "outputs": [],
   "source": [
    "# load images\n",
    "images = []\n",
    "resize_width = 50\n",
    "resize_height = 50\n",
    "resized_images = []\n",
    "for f in file_names:\n",
    "    try:\n",
    "        img = io.imread(directory + f, as_grey=True)\n",
    "        threshold = threshold_mean(img)\n",
    "        img = img > threshold\n",
    "        img = img.astype(float)\n",
    "        resized_images.append(resize(img, (resize_width, resize_height), mode='edge').round())\n",
    "    except IOError:\n",
    "        pass\n",
    "    except ValueError:\n",
    "        pass"
   ]
  },
  {
   "cell_type": "code",
   "execution_count": 164,
   "metadata": {},
   "outputs": [],
   "source": [
    "# save resized images (only to find errornous images)\n",
    "resized_directory = 'resized_images/img' # directory path to store resized images \n",
    "errornous_images = []\n",
    "for i in range(len(resized_images)):\n",
    "    try:\n",
    "        io.imsave(resized_directory + str(i) + '.png', resized_images[i])\n",
    "    except ValueError:\n",
    "        errornous_images.append(i)"
   ]
  },
  {
   "cell_type": "code",
   "execution_count": 165,
   "metadata": {},
   "outputs": [
    {
     "data": {
      "image/png": "[encoded data removed]",
      "text/plain": [
       "<matplotlib.figure.Figure at 0x7f1fefc2b390>"
      ]
     },
     "metadata": {},
     "output_type": "display_data"
    }
   ],
   "source": [
    "# test a resized image\n",
    "for i in range(len(resized_images)):\n",
    "    if i not in errornous_images:\n",
    "        imgplot = plt.imshow(resized_images[i])\n",
    "        plt.show()\n",
    "        break"
   ]
  },
  {
   "cell_type": "code",
   "execution_count": 166,
   "metadata": {
    "collapsed": true
   },
   "outputs": [],
   "source": [
    "# flatten arrays\n",
    "flattened_images = []\n",
    "for i in range(len(resized_images)):\n",
    "    if i not in errornous_images:\n",
    "        flattened_images.append(resized_images[i].flatten())        \n",
    "flattened_images = np.array(flattened_images)"
   ]
  },
  {
   "cell_type": "markdown",
   "metadata": {},
   "source": [
    "when ploting, we can resize flattened images as img.reshape((width, height)) to get the original image."
   ]
  },
  {
   "cell_type": "code",
   "execution_count": 167,
   "metadata": {},
   "outputs": [],
   "source": [
    "# write to csv\n",
    "df_images = pd.DataFrame(flattened_images)\n",
    "df_images.to_csv('ganesh_preproecessed_images.csv', header=False, index=False)"
   ]
  },
  {
   "cell_type": "code",
   "execution_count": null,
   "metadata": {},
   "outputs": [],
   "source": []
  },
  {
   "cell_type": "code",
   "execution_count": null,
   "metadata": {},
   "outputs": [],
   "source": []
  },
  {
   "cell_type": "code",
   "execution_count": null,
   "metadata": {},
   "outputs": [],
   "source": []
  },
  {
   "cell_type": "code",
   "execution_count": null,
   "metadata": {},
   "outputs": [],
   "source": []
  },
  {
   "cell_type": "code",
   "execution_count": 39,
   "metadata": {},
   "outputs": [],
   "source": []
  },
  {
   "cell_type": "code",
   "execution_count": null,
   "metadata": {},
   "outputs": [],
   "source": []
  },
  {
   "cell_type": "markdown",
   "metadata": {
    "collapsed": true
   },
   "source": []
  },
  {
   "cell_type": "code",
   "execution_count": 10,
   "metadata": {
    "collapsed": true
   },
   "outputs": [],
   "source": []
  },
  {
   "cell_type": "code",
   "execution_count": 19,
   "metadata": {
    "collapsed": true
   },
   "outputs": [],
   "source": []
  },
  {
   "cell_type": "code",
   "execution_count": 20,
   "metadata": {},
   "outputs": [],
   "source": []
  },
  {
   "cell_type": "code",
   "execution_count": null,
   "metadata": {},
   "outputs": [],
   "source": []
  },
  {
   "cell_type": "code",
   "execution_count": null,
   "metadata": {},
   "outputs": [],
   "source": []
  },
  {
   "cell_type": "code",
   "execution_count": null,
   "metadata": {
    "collapsed": true
   },
   "outputs": [],
   "source": []
  }
 ],
 "metadata": {
  "kernelspec": {
   "display_name": "Python 2",
   "language": "python",
   "name": "python2"
  },
  "language_info": {
   "codemirror_mode": {
    "name": "ipython",
    "version": 2
   },
   "file_extension": ".py",
   "mimetype": "text/x-python",
   "name": "python",
   "nbconvert_exporter": "python",
   "pygments_lexer": "ipython2",
   "version": "2.7.12"
  }
 },
 "nbformat": 4,
 "nbformat_minor": 2
}
